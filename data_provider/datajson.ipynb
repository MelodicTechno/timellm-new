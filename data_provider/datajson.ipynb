{
 "cells": [
  {
   "cell_type": "code",
   "execution_count": null,
   "metadata": {},
   "outputs": [],
   "source": [
    "#(1) 保存data.json\n",
    "import json\n",
    "import os\n",
    "\n",
    "# 定义数据\n",
    "data = {\n",
    "    \"kitchen\": [0, 1, 7, 8, 9, 10, 11, 14, 15, 16, 17, 18, 19, 30, 32, 41, 42, 46, 47, 48, 49, 50, 51, 52, 53, 54, 55, 56, 57, 58, 62, 68, 71, 72, 73, 74, 75, 76, 77, 78, 79, 82, 83, 84, 86, 87, 100, 101, 102, 104, 105, 106, 107, 108, 109, 110, 111, 112, 113, 114, 116, 117, 118, 119, 120, 122, 123, 126, 128, 129, 130, 131, 132, 133, 134, 135, 136, 137, 138],\n",
    "    \"livingroom\": [2, 3, 4, 5, 12, 13, 21, 22, 23, 24, 25, 26, 27, 28, 29, 31, 33, 35, 36, 37, 38, 39, 40, 43, 44, 45, 59, 60, 61, 65, 66, 67, 69, 70, 80, 85, 88, 89, 90, 91, 92, 93, 94, 95, 96, 97, 98, 99, 103, 115, 121, 124, 125],\n",
    "    \"bathroom\": [6, 20, 34, 63, 64, 81],\n",
    "    \"playVR\": [139, 140],\n",
    "    \"train_list\": [34, 81, 20, 6, 70, 96, 24, 37, 28, 33, 44, 99, 2, 124, 65, 12, 90, 91, 125, 67, 66, 115, 40, 88, 23, 22, 35, 25, 5, 13, 94, 27, 59, 103, 69, 93, 85, 61, 29, 140, 107, 123, 11, 122, 114, 55, 48, 17, 138, 120, 108, 82, 79, 104, 16, 41, 129, 116, 135, 42, 100, 131, 9, 46, 71, 106, 72, 76, 0, 136, 47, 134, 58, 133, 132, 73, 84, 87, 126, 51, 119, 52, 118, 130, 128, 30, 83, 7, 54, 18, 49, 112],\n",
    "    \"test_list\": [64, 63, 80, 98, 38, 36, 31, 39, 45, 89, 3, 43, 60, 97, 92, 26, 121, 4, 95, 21, 139, 50, 68, 117, 10, 102, 78, 15, 1, 53, 14, 32, 113, 56, 77, 74, 101, 19, 109, 57, 75, 111, 105, 62, 8, 86, 137, 110]\n",
    "}\n",
    "\n",
    "# 确保目录存在\n",
    "os.makedirs('./dataset', exist_ok=True)\n",
    "\n",
    "# 保存文件到 ./dataset/data.json\n",
    "with open('./dataset/data.json', 'w') as f:\n",
    "    json.dump(data, f, indent=4)\n",
    "\n",
    "print(\"Data saved successfully to './dataset/data.json'\")"
   ]
  },
  {
   "cell_type": "code",
   "execution_count": null,
   "metadata": {},
   "outputs": [],
   "source": [
    "\n",
    "#(2) 分离原始数据集的数据和label并保存为npz \n",
    "import os\n",
    "import pandas as pd\n",
    "import numpy as np\n",
    "import json\n",
    "\n",
    "# 创建保存数据的文件夹\n",
    "os.makedirs('./dataset/all_session', exist_ok=True)\n",
    "os.makedirs('./dataset/all_label', exist_ok=True)\n",
    "\n",
    "# 读取JSON文件中的字符串到数字映射\n",
    "with open('./dataset/label.json', 'r') as f:\n",
    "    label_map = json.load(f)\n",
    "\n",
    "# 遍历所有CSV文件\n",
    "for i in range(141):\n",
    "    if i==127:\n",
    "      continue\n",
    "    # 构造文件名\n",
    "    filename = f'./dataset/session/session{i}.csv'\n",
    "    \n",
    "    # 读取CSV文件\n",
    "    df = pd.read_csv(filename)\n",
    "    \n",
    "    # 分离数据和标签\n",
    "    data = df[['acc_x', 'acc_y', 'acc_z', 'gyro_x', 'gyro_y', 'gyro_z']].values\n",
    "    labels = df[['label']].values\n",
    "\n",
    "    # 替换字符串标签为对应的数字\n",
    "    labels = [[label_map[label[0]]] for label in labels]\n",
    "\n",
    "    \n",
    "    # 保存数据到 .npz 文件\n",
    "    np.save(f'./dataset/all_session/session{i}.npy', data)\n",
    "    np.save(f'./dataset/all_label/label{i}.npy', labels)\n",
    "\n",
    "    \n",
    "\n",
    "print(\"数据分离并保存完毕!\")"
   ]
  },
  {
   "cell_type": "code",
   "execution_count": null,
   "metadata": {},
   "outputs": [],
   "source": [
    "# （2）_2 检查结果\n",
    "import numpy as np\n",
    "# 加载 NPZ 文件\n",
    "loaded_data = np.load('./dataset/all_session/session140.npy')\n",
    "loaded_label = np.load('./dataset/all_label/label140.npy')\n",
    "\n",
    "# 访问各个数组\n",
    "print(\"all_session/session0:\", loaded_data[0:10,:])\n",
    "print(\"all_label/session0:\", loaded_label[0:10,:])"
   ]
  }
 ],
 "metadata": {
  "language_info": {
   "name": "python"
  }
 },
 "nbformat": 4,
 "nbformat_minor": 2
}
